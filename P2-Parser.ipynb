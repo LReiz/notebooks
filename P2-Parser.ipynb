{
 "cells": [
  {
   "cell_type": "markdown",
   "metadata": {},
   "source": [
    "# Second Project: Parser"
   ]
  },
  {
   "cell_type": "markdown",
   "metadata": {},
   "source": [
    "The second project requires you to implement a Parser for the uC language and\n",
    "generate a parse tree as output (note that the Abstract Syntax Tree will be\n",
    "built only in the third project). To complete this second project, you will also\n",
    "use the [PLY](http://www.dabeaz.com/ply/), a Python version of the\n",
    "[lex/yacc](http://dinosaur.compilertools.net/) toolset with the same\n",
    "functionality but with a friendlier interface. Please read the complete\n",
    "contents of this section and carefully complete the steps indicated."
   ]
  },
  {
   "cell_type": "markdown",
   "metadata": {},
   "source": [
    "# Parser at a glance: Building a Parser Tree\n",
    "Consider the following grammar. We will develop a parser to recognize sentences in this\n",
    "grammar and build a parse tree for them. In this grammar, the following syntax is used:\n",
    "```\n",
    " { symbols }*  --> Zero or more repetitions of symbols\n",
    " { symbols }+  --> One or more repetitions of symbols\n",
    " { symbols }?  --> Zero or one occurences of symbols (optional)\n",
    " sym1 | sym2   --> Either sym1 or sym2 (a choice)\n",
    "```"
   ]
  },
  {
   "cell_type": "code",
   "execution_count": null,
   "metadata": {
    "pycharm": {
     "name": "#%%\n"
    }
   },
   "outputs": [],
   "source": [
    "# Grammar\n",
    "'''\n",
    "program : statements EOF\n",
    "\n",
    "statements : { statement }+\n",
    "\n",
    "statement : assign_statement\n",
    "          | if_statement\n",
    "          | while_statement\n",
    "          | print_statement\n",
    "\n",
    "assign_statement : ID EQUALS expr SEMI\n",
    "\n",
    "if_statement : IF expr LBRACE statements RBRACE { ELSE LBRACE statements RBRACE }?\n",
    "\n",
    "while_statement : WHILE expr LBRACE statements RBRACE\n",
    "\n",
    "print_statement : PRINT expr SEMI\n",
    "\n",
    "expr : expr PLUS expr\n",
    "     | expr TIMES expr\n",
    "     | expr EQ expr\n",
    "     | expr NE expr\n",
    "     | NUM\n",
    "     | ID\n",
    "     | LPAREN expr RPAREN\n",
    "'''"
   ]
  },
  {
   "cell_type": "markdown",
   "metadata": {},
   "source": [
    " Example of valid sentences for this grammar"
   ]
  },
  {
   "cell_type": "raw",
   "metadata": {},
   "source": [
    "a = 3 * 4 + 5;\n",
    "print a;"
   ]
  },
  {
   "cell_type": "markdown",
   "metadata": {},
   "source": [
    "## Lexer\n",
    "The first step is to build a lexical analyzer for the terminals of this grammar:"
   ]
  },
  {
   "cell_type": "code",
   "execution_count": null,
   "metadata": {
    "pycharm": {
     "name": "#%%\n"
    }
   },
   "outputs": [],
   "source": [
    "from ply.lex import lex\n",
    "\n",
    "# tokens\n",
    "tokens = ('ID', 'NUM', 'PLUS', 'TIMES', 'NE', 'EQ', 'EQUALS', 'SEMI', 'LPAREN',\n",
    "          'RPAREN', 'LBRACE', 'RBRACE', 'PRINT', 'IF', 'ELSE', 'WHILE')\n",
    "\n",
    "\n",
    "def t_ID(t):\n",
    "    r'[a-zA-Z_][a-zA-Z0-9_]*'\n",
    "    if t.value == 'print':\n",
    "        t.type = \"PRINT\"\n",
    "    elif t.value == 'if':\n",
    "        t.type = \"IF\"\n",
    "    elif t.value == 'else':\n",
    "        t.type = \"ELSE\"\n",
    "    elif t.value == 'while':\n",
    "        t.type = \"WHILE\"\n",
    "    return t\n",
    "\n",
    "\n",
    "def t_NUM(t):\n",
    "    r'[0-9]+'\n",
    "    t.value = int(t.value)\n",
    "    return t\n",
    "\n",
    "\n",
    "t_PLUS = r'\\+'\n",
    "t_TIMES = r'\\*'\n",
    "t_NE = r'!='\n",
    "t_EQ = r'=='\n",
    "t_EQUALS = r'='\n",
    "t_SEMI = r';'\n",
    "t_LPAREN = r'\\('\n",
    "t_RPAREN = r'\\)'\n",
    "t_LBRACE = r'{'\n",
    "t_RBRACE = r'}'\n",
    "\n",
    "\n",
    "def t_error(t):\n",
    "    print(f'Illegal character {t.value[0]}')\n",
    "    t.lexer.skip(1)\n",
    "\n",
    "\n",
    "t_ignore = ' \\t'\n",
    "__file__ = 'parser_at_a_glance.ipynb'  # necessário apenas no contexto do jupyter\n",
    "lexer = lex()\n",
    "lexer.input(\"a = 3 * 4 + 5\")\n",
    "for tok in lexer:\n",
    "    print(tok)"
   ]
  },
  {
   "cell_type": "markdown",
   "metadata": {},
   "source": [
    "## Recognizing the sentences"
   ]
  },
  {
   "cell_type": "code",
   "execution_count": null,
   "metadata": {
    "pycharm": {
     "name": "#%%\n"
    }
   },
   "outputs": [],
   "source": [
    "from ply.yacc import yacc\n",
    "\n",
    "\n",
    "def p_program(p):\n",
    "    ''' program : statements\n",
    "    '''\n",
    "\n",
    "\n",
    "def p_statement_list(p):\n",
    "    ''' statements : statements statement\n",
    "                   | statement\n",
    "    '''\n",
    "\n",
    "\n",
    "def p_assign_statement(p):\n",
    "    ''' statement : ID EQUALS expr SEMI\n",
    "    '''\n",
    "\n",
    "\n",
    "def p_if_statement_1(p):\n",
    "    ''' statement : IF expr LBRACE statements RBRACE\n",
    "    '''\n",
    "\n",
    "\n",
    "def p_if_statements_2(p):\n",
    "    ''' statement : IF expr LBRACE statements RBRACE ELSE LBRACE statements RBRACE\n",
    "    '''\n",
    "\n",
    "\n",
    "def p_while_statement(p):\n",
    "    ''' statement : WHILE expr LBRACE statements RBRACE\n",
    "    '''\n",
    "\n",
    "\n",
    "def p_print_statement(p):\n",
    "    ''' statement : PRINT expr SEMI\n",
    "    '''\n",
    "\n",
    "\n",
    "def p_binop_expr(p):\n",
    "    ''' expr : expr PLUS expr\n",
    "             | expr TIMES expr\n",
    "             | expr EQ expr\n",
    "             | expr NE expr\n",
    "    '''\n",
    "\n",
    "\n",
    "def p_num_expr(p):\n",
    "    ''' expr : NUM\n",
    "    '''\n",
    "\n",
    "\n",
    "def p_name_expr(p):\n",
    "    ''' expr : ID\n",
    "    '''\n",
    "\n",
    "\n",
    "def p_compound_expr(p):\n",
    "    ''' expr : LPAREN expr RPAREN\n",
    "    '''\n",
    "\n",
    "\n",
    "parser = yacc(write_tables=False)"
   ]
  },
  {
   "cell_type": "markdown",
   "metadata": {},
   "source": [
    "Let's ignore the warnings for now and try to parser for a valid sentence:"
   ]
  },
  {
   "cell_type": "code",
   "execution_count": null,
   "metadata": {
    "pycharm": {
     "name": "#%%\n"
    }
   },
   "outputs": [],
   "source": [
    "parser.parse('a = 3 * 4 + 5 ;')"
   ]
  },
  {
   "cell_type": "markdown",
   "metadata": {},
   "source": [
    " Nothing happened! Let's see what happens to an invalid sentence:"
   ]
  },
  {
   "cell_type": "code",
   "execution_count": null,
   "metadata": {
    "pycharm": {
     "name": "#%%\n"
    }
   },
   "outputs": [],
   "source": [
    "parser.parse('a == 3 ;')"
   ]
  },
  {
   "cell_type": "markdown",
   "metadata": {},
   "source": [
    "Now let's add information to build a parse tree:"
   ]
  },
  {
   "cell_type": "code",
   "execution_count": null,
   "metadata": {
    "pycharm": {
     "name": "#%%\n"
    }
   },
   "outputs": [],
   "source": [
    "from ply.yacc import yacc\n",
    "\n",
    "\n",
    "def p_program(p):\n",
    "    ''' program : statements\n",
    "    '''\n",
    "    p[0] = ('program', p[1])\n",
    "\n",
    "\n",
    "def p_statement_list(p):\n",
    "    ''' statements : statements statement\n",
    "                   | statement\n",
    "    '''\n",
    "    p[0] = p[1] if len(p) == 2 else p[1] + (p[2])\n",
    "\n",
    "\n",
    "def p_assign_statement(p):\n",
    "    ''' statement : ID EQUALS expr SEMI\n",
    "    '''\n",
    "    p[0] = ('assign', p[1], p[3])\n",
    "\n",
    "\n",
    "def p_if_statement_1(p):\n",
    "    ''' statement : IF expr LBRACE statements RBRACE\n",
    "    '''\n",
    "    p[0] = ('if', p[2], p[4], None)\n",
    "\n",
    "\n",
    "def p_if_statements_2(p):\n",
    "    ''' statement : IF expr LBRACE statements RBRACE ELSE LBRACE statements RBRACE\n",
    "    '''\n",
    "    p[0] = ('if', p[2], p[4], p[8])\n",
    "\n",
    "\n",
    "def p_while_statement(p):\n",
    "    ''' statement : WHILE expr LBRACE statements RBRACE\n",
    "    '''\n",
    "    p[0] = ('while', p[2], p[4])\n",
    "\n",
    "\n",
    "def p_print_statement(p):\n",
    "    ''' statement : PRINT expr SEMI\n",
    "    '''\n",
    "    p[0] = ('print', p[2])\n",
    "\n",
    "\n",
    "def p_binop_expr(p):\n",
    "    ''' expr : expr PLUS expr\n",
    "             | expr TIMES expr\n",
    "             | expr EQ expr\n",
    "             | expr NE expr\n",
    "    '''\n",
    "    p[0] = (p[2], p[1], p[3])\n",
    "\n",
    "\n",
    "def p_num_expr(p):\n",
    "    ''' expr : NUM\n",
    "    '''\n",
    "    p[0] = ('num', p[1])\n",
    "\n",
    "\n",
    "def p_name_expr(p):\n",
    "    ''' expr : ID\n",
    "    '''\n",
    "    p[0] = ('id', p[1])\n",
    "\n",
    "\n",
    "def p_compound_expr(p):\n",
    "    ''' expr : LPAREN expr RPAREN\n",
    "    '''\n",
    "    p[0] = p[2]\n",
    "\n",
    "\n",
    "parser = yacc(write_tables=False)"
   ]
  },
  {
   "cell_type": "code",
   "execution_count": null,
   "metadata": {
    "pycharm": {
     "name": "#%%\n"
    }
   },
   "outputs": [],
   "source": [
    "parser.parse(\"a = 3 * 4 + 5 ;\")"
   ]
  },
  {
   "cell_type": "markdown",
   "metadata": {},
   "source": [
    "Built the parser tree we noticed that it is not respecting the precedence of the\n",
    "operators. We need to indicate this in the program. Let's also take advantage\n",
    "and define an error routine for the parser:"
   ]
  },
  {
   "cell_type": "code",
   "execution_count": null,
   "metadata": {
    "pycharm": {
     "name": "#%%\n"
    }
   },
   "outputs": [],
   "source": [
    "from ply.yacc import yacc\n",
    "\n",
    "\n",
    "def p_program(p):\n",
    "    ''' program : statements\n",
    "    '''\n",
    "    p[0] = ('program', p[1])\n",
    "\n",
    "\n",
    "def p_statement_list(p):\n",
    "    ''' statements : statements statement\n",
    "                   | statement\n",
    "    '''\n",
    "    p[0] = p[1] if len(p) == 2 else p[1] + (p[2])\n",
    "\n",
    "\n",
    "def p_assign_statement(p):\n",
    "    ''' statement : ID EQUALS expr SEMI\n",
    "    '''\n",
    "    p[0] = ('assign', p[1], p[3])\n",
    "\n",
    "\n",
    "def p_if_statement_1(p):\n",
    "    ''' statement : IF expr LBRACE statements RBRACE\n",
    "    '''\n",
    "    p[0] = ('if', p[2], p[4], None)\n",
    "\n",
    "\n",
    "def p_if_statements_2(p):\n",
    "    ''' statement : IF expr LBRACE statements RBRACE ELSE LBRACE statements RBRACE\n",
    "    '''\n",
    "    p[0] = ('if', p[2], p[4], p[8])\n",
    "\n",
    "\n",
    "def p_while_statement(p):\n",
    "    ''' statement : WHILE expr LBRACE statements RBRACE\n",
    "    '''\n",
    "    p[0] = ('while', p[2], p[4])\n",
    "\n",
    "\n",
    "def p_print_statement(p):\n",
    "    ''' statement : PRINT expr SEMI\n",
    "    '''\n",
    "    p[0] = ('print', p[2])\n",
    "\n",
    "\n",
    "def p_binop_expr(p):\n",
    "    ''' expr : expr PLUS expr\n",
    "             | expr TIMES expr\n",
    "             | expr EQ expr\n",
    "             | expr NE expr\n",
    "    '''\n",
    "    p[0] = (p[2], p[1], p[3])\n",
    "\n",
    "\n",
    "def p_num_expr(p):\n",
    "    ''' expr : NUM\n",
    "    '''\n",
    "    p[0] = ('num', p[1])\n",
    "\n",
    "\n",
    "def p_name_expr(p):\n",
    "    ''' expr : ID\n",
    "    '''\n",
    "    p[0] = ('id', p[1])\n",
    "\n",
    "\n",
    "def p_compound_expr(p):\n",
    "    ''' expr : LPAREN expr RPAREN\n",
    "    '''\n",
    "    p[0] = p[2]\n",
    "\n",
    "\n",
    "def p_error(p):\n",
    "    if p:\n",
    "        print(\"Error near the symbol %s\" % p.value)\n",
    "    else:\n",
    "        print(\"Error at the end of input\")\n",
    "\n",
    "\n",
    "precedence = (\n",
    "    ('left', 'PLUS'),\n",
    "    ('left', 'TIMES'),\n",
    "    ('left', 'EQ'),\n",
    "    ('left', 'NE')\n",
    "    )\n",
    "\n",
    "parser = yacc(write_tables=False)"
   ]
  },
  {
   "cell_type": "markdown",
   "metadata": {},
   "source": [
    "With the definition of operator precedence, shift-reduce conflicts were resolved.\n",
    "Let's run the parser for our example sentences again:"
   ]
  },
  {
   "cell_type": "code",
   "execution_count": null,
   "metadata": {
    "pycharm": {
     "name": "#%%\n"
    }
   },
   "outputs": [],
   "source": [
    "parser.parse('a = 3 * 4 + 5 ;')"
   ]
  },
  {
   "cell_type": "code",
   "execution_count": null,
   "metadata": {
    "pycharm": {
     "name": "#%%\n"
    }
   },
   "outputs": [],
   "source": [
    "parser.parse('a = 3 * ;')"
   ]
  },
  {
   "cell_type": "code",
   "execution_count": null,
   "metadata": {
    "pycharm": {
     "name": "#%%\n"
    }
   },
   "outputs": [],
   "source": [
    "parser.parse('a == 3 ; ')"
   ]
  },
  {
   "cell_type": "code",
   "execution_count": null,
   "metadata": {
    "pycharm": {
     "name": "#%%\n"
    }
   },
   "outputs": [],
   "source": [
    "parser.parse('print a ;')"
   ]
  },
  {
   "cell_type": "code",
   "execution_count": null,
   "metadata": {
    "pycharm": {
     "name": "#%%\n"
    }
   },
   "outputs": [],
   "source": [
    "code = '''\n",
    "a = 3;\n",
    "b = 4 * a;\n",
    "print (a+b);\n",
    "'''"
   ]
  },
  {
   "cell_type": "code",
   "execution_count": null,
   "metadata": {
    "pycharm": {
     "name": "#%%\n"
    }
   },
   "outputs": [],
   "source": [
    "parser.parse(code.__str__().replace('\\n', ' '))"
   ]
  },
  {
   "cell_type": "code",
   "execution_count": null,
   "metadata": {},
   "outputs": [],
   "source": [
    "code = '''\n",
    "count = 0;\n",
    "max = 5;\n",
    "while count != max {\n",
    "  count = count + 1;\n",
    "  print count;\n",
    "}\n",
    "'''"
   ]
  },
  {
   "cell_type": "code",
   "execution_count": null,
   "metadata": {},
   "outputs": [],
   "source": [
    "parser.parse(code.__str__().replace('\\n', ' '))"
   ]
  },
  {
   "cell_type": "markdown",
   "metadata": {},
   "source": [
    "## Writing a Parser for the uC language"
   ]
  },
  {
   "cell_type": "markdown",
   "metadata": {},
   "source": [
    "In this step, you must write the basic shell of a parser for the uC language.\n",
    "A formal BNF of the language is [here](./doc/uC_Grammar.ipynb). Your task is to write parsing\n",
    "rules using PLY\n",
    "(see [PLY-Yacc](http://www.dabeaz.com/ply/ply.html#ply_nn22) documentation).\n",
    "\n",
    "Your task is translate the BNF into a collection of parser functions. For example, a rule\n",
    "such as :\n",
    "```\n",
    "  <program> ::= {<global_declaration>}+\n",
    "```  \n",
    "Gets turned into a Python function of the form:"
   ]
  },
  {
   "cell_type": "code",
   "execution_count": null,
   "metadata": {
    "pycharm": {
     "name": "#%%\n"
    }
   },
   "outputs": [],
   "source": [
    "class Parser:\n",
    "    ...\n",
    "    def p_program(self, p):\n",
    "        \"\"\" program  : global_declaration_list\n",
    "        \"\"\"\n",
    "        p[0] = ('Program', p[1])\n",
    "\n",
    "    def p_global_declaration_list(self, p):\n",
    "        \"\"\" global_declaration_list : global_declaration\n",
    "                                    | global_declaration_list global_declaration\n",
    "        \"\"\"\n",
    "        p[0] = [p[1]] if len(p) == 2 else p[1] + [p[2]]"
   ]
  },
  {
   "cell_type": "markdown",
   "metadata": {},
   "source": [
    "In the body of each rule, create an appropriate name and assign it to p[0] as shown\n",
    "above.\n",
    "\n",
    "For the purposes of lineno number tracking, you should assign a line number to each\n",
    "production as appropriate. See http://www.dabeaz.com/ply/ply.html#ply_nn33. To do this,\n",
    "I suggest pulling the line number off of any nearby terminal symbol. For example:"
   ]
  },
  {
   "cell_type": "code",
   "execution_count": null,
   "metadata": {
    "pycharm": {
     "name": "#%%\n"
    }
   },
   "outputs": [],
   "source": [
    "    def p_identifier(self, p):\n",
    "        \"\"\" identifier : ID \"\"\"\n",
    "        p[0] = ('ID', p[1])\n",
    "        p.set_lineno(0, p.lineno(1))"
   ]
  },
  {
   "cell_type": "markdown",
   "metadata": {
    "pycharm": {
     "name": "#%% md\n"
    }
   },
   "source": [
    "Your goal, at the end of this second project, is to **syntactically** recognize programs\n",
    "expressed in the uC language. You can use as a basis the examples contained\n",
    "[here](./doc/uC_Grammar.ipynb). For this, the ideal is that you get your grammar to present\n",
    "**only one** shift-reduce conflict that is relative to the if-else sentence.\n",
    "\n",
    "Suggestion: You should start simple and incrementally work your way up to building the\n",
    "complete grammar."
   ]
  }
 ],
 "metadata": {
  "@webio": {
   "lastCommId": null,
   "lastKernelId": null
  },
  "kernelspec": {
   "display_name": "Python 3",
   "language": "python",
   "name": "python3"
  },
  "language_info": {
   "codemirror_mode": {
    "name": "ipython",
    "version": 3
   },
   "file_extension": ".py",
   "mimetype": "text/x-python",
   "name": "python",
   "nbconvert_exporter": "python",
   "pygments_lexer": "ipython3",
   "version": "3.8.6"
  },
  "latex_envs": {
   "LaTeX_envs_menu_present": true,
   "autoclose": false,
   "autocomplete": true,
   "bibliofile": "biblio.bib",
   "cite_by": "apalike",
   "current_citInitial": 1,
   "eqLabelWithNumbers": true,
   "eqNumInitial": 1,
   "hotkeys": {
    "equation": "Ctrl-E",
    "itemize": "Ctrl-I"
   },
   "labels_anchors": false,
   "latex_user_defs": false,
   "report_style_numbering": false,
   "user_envs_cfg": false
  },
  "toc": {
   "base_numbering": 1,
   "nav_menu": {},
   "number_sections": true,
   "sideBar": true,
   "skip_h1_title": false,
   "title_cell": "Table of Contents",
   "title_sidebar": "Contents",
   "toc_cell": false,
   "toc_position": {},
   "toc_section_display": true,
   "toc_window_display": false
  }
 },
 "nbformat": 4,
 "nbformat_minor": 4
}
