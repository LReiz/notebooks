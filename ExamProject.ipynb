{
 "cells": [
  {
   "cell_type": "markdown",
   "metadata": {},
   "source": [
    "# Final (Exam) Project\n",
    "\n",
    "In this final (exam) project, you will do copy propagation analysis and optimization in uCIR. First, you will need the Fifth Project implemented with basic blocks as start point. You do not need the previous analsysis and optimizations done, although it is preferable to complete this task."
   ]
  },
  {
   "cell_type": "markdown",
   "metadata": {},
   "source": [
    "## Data-flow analysis: copy propagation\n",
    "\n",
    "Supose statements of the form\n",
    "\n",
    "```\n",
    "s:  x = y\n",
    "u:  z = 3 + x\n",
    "```\n",
    "\n",
    "Copy propagation would yield:\n",
    "\n",
    "```\n",
    "u: z = 3 + y\n",
    "```"
   ]
  },
  {
   "cell_type": "markdown",
   "metadata": {},
   "source": [
    "## Copy propagation conditions.\n",
    "\n",
    "Assume that for a statement <tt>u</tt> where <tt>x</tt> is used\n",
    "\n",
    "*   statement <tt>s</tt> is the only definition of <tt>y</tt> reaching <tt>u</tt>\n",
    "*   on every path from <tt>s</tt> to <tt>u</tt> there are no assignments to <tt>y</tt>\n",
    "\n",
    "Then we may substitute <tt>x</tt> for <tt>y</tt> in <tt>u</tt>.\n",
    "\n",
    "Observe that\n",
    "\n",
    "*   we know how to check the first condition,\n",
    "*   but not the second one ...\n",
    "\n",
    "We shall set up a new data-flow analysis together with new data-flow equations to solve this problem."
   ]
  },
  {
   "cell_type": "markdown",
   "metadata": {},
   "source": [
    "##  Copy reaching a point.\n",
    "\n",
    "Let ```s: x = y``` be a copy statement and $p$ be a point of the uC program P. We say that the copy ```s: x = y``` reaches $u$ if every path $p$ from the initial node of P to $u$\n",
    "\n",
    "*   contains ```s: x = y```\n",
    "*   and subsequent to the last occurrence of ```s: x = y``` on path $u$ there is no assignment to <tt>x</tt> or <tt>y</tt>.\n",
    "\n",
    "This implies that the statement ```s: x = y``` reaches the point $u$."
   ]
  },
  {
   "cell_type": "markdown",
   "metadata": {},
   "source": [
    "##  Copy propagation data-flow sets.\n",
    "\n",
    "For a basic block B:\n",
    "\n",
    "*   _in_<sub>C</sub>(B) is the set of the copies (from anywhere in $P$ reaching entry(B).\n",
    "*   _out_<sub>C</sub>(B) is the set of the copies (from anywhere in $P$ reaching exit(B).\n",
    "*   _gen_<sub>C</sub>(B) is the set of the copies defined in B and reaching exit(B).\n",
    "*   A copy statement <tt>s: x = y</tt> is killed in B if\n",
    "    *   <tt>s: x = y</tt> $ \\not\\in$ B and\n",
    "    *   <tt>x</tt> or <tt>y</tt> are assigned in B.\n",
    "*   _kill_<sub>C</sub>(B) is the set of the copy statements (from anywhere in $P$) that are killed in within block B by a redefinition of <tt>y</tt> or <tt>x</tt>.\n",
    "\n",
    "Observe that\n",
    "\n",
    "*   _in_<sub>C</sub>(B) can contain **only one** copy statement with a given <tt>x</tt> on the left.\n",
    "\n",
    "Observe that for every basic block B:\n",
    "\n",
    "*   the data-flow sets _gen_<sub>C</sub>(B) and _kill_<sub>C</sub>(B) can be computed easily,\n",
    "*   the definitions of _gen_<sub>C</sub>(B) and _kill_<sub>C</sub>(B) essentially deals with graph theory and will not detect copy statements that are never hit (= evaluated),\n",
    "*   so we may apply the following precautionary principles\n",
    "    *   we add a copy statement to _gen_<sub>C</sub>(B) only if we are sure that it is hit,\n",
    "    *   we add a copy statement to _kill_<sub>C</sub>(B) even if it is doubtful that it will be killed.\n"
   ]
  },
  {
   "cell_type": "markdown",
   "metadata": {},
   "source": [
    "## Data-flow equations\n",
    "\n",
    "For every basic block B the data-flow sets _in_<sub>C</sub>(B) and _out_<sub>C</sub>(B) satisfy the following equations\n",
    "\n",
    "*  _in_<sub>C</sub>(B) = $\\bigcap_{(B' \\in\\ pred(B))}$ _out_<sub>C</sub>(B'),\n",
    "\n",
    "\n",
    "*  _out_<sub>C</sub>(B) = _gen_<sub>C</sub>(B) $\\bigcup$ (_in_<sub>C</sub>(B) $\\setminus$ _kill_<sub>C</sub>(B))\n"
   ]
  },
  {
   "cell_type": "markdown",
   "metadata": {},
   "source": [
    "## Computing the data-flow sets for the copy propagation problem\n",
    "\n",
    "Assume that the set C of all copy statements in $P$ has been computed. Then, for each basic block B one can compute _gen_<sub>C</sub>(B) and _kill_<sub>C</sub>(B).\n",
    "\n",
    "Now set\n",
    "\n",
    "*  $in_{C}(B_{1}) = \\phi$ and,\n",
    "\n",
    "*  $out_{C}(B_{1}) = gen_{C}(B_{1})$\n",
    "\n",
    "\n",
    "where _B_<sub>1</sub> is the first block.\n",
    "\n",
    "Then one can set up a completion algorithm initializing every basic block B $\\neq$ _B_<sub>1</sub>\n",
    "\n",
    "*  _in_<sub>C</sub>(B) = C\n",
    "\n",
    "and using the updating equations\n",
    "\n",
    "*  _out_<sub>C</sub>(B) = _gen_<sub>C</sub>(B) $\\bigcup$ (_in_<sub>C</sub>(B) $\\setminus$ _kill_<sub>C</sub>(B))\n",
    "\n",
    "*  _in_<sub>C</sub>(B) = $\\bigcap_{(B' \\in\\ pred(B))}$ _out_<sub>C</sub>(B')\n"
   ]
  },
  {
   "cell_type": "markdown",
   "metadata": {},
   "source": [
    "# Copy Propagation example\n",
    "```\n",
    "int main() {\n",
    " int x, y, z;\n",
    " read(y);\n",
    " x = y;\n",
    " z = 3 + x;\n",
    " print(z);\n",
    " return 0;\n",
    "}\n",
    "```\n",
    "uCIR:\n",
    "```\n",
    "define_int @main \n",
    "entry:\n",
    "  alloc_int %1 \n",
    "  alloc_int %x \n",
    "  alloc_int %y \n",
    "  alloc_int %z \n",
    "  read_int %y \n",
    "  load_int %y %2 \n",
    "  store_int %2 %x \n",
    "  literal_int 3 %3 \n",
    "  load_int %x %4 \n",
    "  add_int %3 %4 %5 \n",
    "  store_int %5 %z \n",
    "  load_int %z %6 \n",
    "  print_int %6 \n",
    "  literal_int 0 %7 \n",
    "  store_int %7 %1 \n",
    "  jump label %exit\n",
    "exit:\n",
    "  load_int %1 %8 \n",
    "  return_int %8\n",
    "```\n",
    "uCIR with copy propagation:\n",
    "```\n",
    "define_int @main \n",
    "entry:\n",
    "  alloc_int %1 \n",
    "  alloc_int %y \n",
    "  alloc_int %z \n",
    "  read_int %y \n",
    "  literal_int 3 %3 \n",
    "  load_int %y %4 \n",
    "  add_int %3 %4 %5 \n",
    "  store_int %5 %z \n",
    "  load_int %z %6 \n",
    "  print_int %6 \n",
    "  literal_int 0 %7 \n",
    "  store_int %7 %1 \n",
    "  jump label %exit\n",
    "exit:\n",
    "  load_int %1 %8 \n",
    "  return_int %8\n",
    "```"
   ]
  },
  {
   "cell_type": "code",
   "execution_count": null,
   "metadata": {},
   "outputs": [],
   "source": []
  }
 ],
 "metadata": {
  "kernelspec": {
   "display_name": "Python 3",
   "language": "python",
   "name": "python3"
  },
  "language_info": {
   "codemirror_mode": {
    "name": "ipython",
    "version": 3
   },
   "file_extension": ".py",
   "mimetype": "text/x-python",
   "name": "python",
   "nbconvert_exporter": "python",
   "pygments_lexer": "ipython3",
   "version": "3.8.5"
  },
  "latex_envs": {
   "LaTeX_envs_menu_present": true,
   "autoclose": false,
   "autocomplete": true,
   "bibliofile": "biblio.bib",
   "cite_by": "apalike",
   "current_citInitial": 1,
   "eqLabelWithNumbers": true,
   "eqNumInitial": 1,
   "hotkeys": {
    "equation": "Ctrl-E",
    "itemize": "Ctrl-I"
   },
   "labels_anchors": false,
   "latex_user_defs": false,
   "report_style_numbering": false,
   "user_envs_cfg": false
  },
  "toc": {
   "base_numbering": 1,
   "nav_menu": {},
   "number_sections": true,
   "sideBar": true,
   "skip_h1_title": false,
   "title_cell": "Table of Contents",
   "title_sidebar": "Contents",
   "toc_cell": false,
   "toc_position": {},
   "toc_section_display": true,
   "toc_window_display": false
  }
 },
 "nbformat": 4,
 "nbformat_minor": 2
}
